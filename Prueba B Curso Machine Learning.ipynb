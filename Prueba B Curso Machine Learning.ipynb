{
 "cells": [
  {
   "cell_type": "markdown",
   "metadata": {
    "colab_type": "text",
    "id": "jYysdyb-CaWM"
   },
   "source": [
    "# Reconocer dígitos en lenguaje de señas"
   ]
  },
  {
   "cell_type": "markdown",
   "metadata": {
    "colab_type": "text",
    "id": "FbVhjPpzn6BM"
   },
   "source": [
    "La tarea tiene como objetivo reconocer dígitos en lenguaje de señas.\n",
    "\n",
    "Hay un total de 10 preguntas que deben ser respondidas y celdas con código fuente que hay que completar. \n",
    "\n",
    "Tratar de alcanzar una precisión (accuracy) mayor a 0.90 en el dataset de test, lo recomendable es llegar a 0.95.\n",
    "\n",
    "Utilizar JupyterHub o una instalación de Jupyter local (Anaconda3) para realizar la tarea."
   ]
  },
  {
   "cell_type": "code",
   "execution_count": 599,
   "metadata": {},
   "outputs": [],
   "source": [
    "# Importamos librerías.\n",
    "\n",
    "import os\n",
    "import numpy as np\n",
    "from os import listdir\n",
    "from tensorflow.keras.layers import Input\n",
    "from tensorflow.keras.layers import Flatten\n",
    "from tensorflow.keras.layers import Activation\n",
    "from tensorflow.keras.layers import Conv2D\n",
    "from tensorflow.keras.layers import MaxPooling2D\n",
    "from tensorflow.keras.models import Model, Sequential\n",
    "from tensorflow.keras.layers import Dense, Dropout\n",
    "from tensorflow.keras.layers import LeakyReLU\n",
    "from tensorflow.keras.datasets import mnist\n",
    "from tensorflow.keras.optimizers import Adam\n",
    "from tensorflow.keras import initializers\n",
    "from sklearn.model_selection import train_test_split\n",
    "from PIL import Image\n",
    "import imageio\n",
    "\n",
    "import matplotlib.pyplot as plt"
   ]
  },
  {
   "cell_type": "markdown",
   "metadata": {},
   "source": [
    "Asignamos algunas configuraciones, dimension de las imágenes utilizar seteando `img_size` el cuál tendremos imágenes de `img_size`x`img_size`.  \n",
    "Con `test_size` asignamos el porcentaje de imágenes para el dataset de testing."
   ]
  },
  {
   "cell_type": "code",
   "execution_count": 600,
   "metadata": {},
   "outputs": [],
   "source": [
    "img_size = 64\n",
    "num_class = 10\n",
    "test_size = 0.2"
   ]
  },
  {
   "cell_type": "markdown",
   "metadata": {
    "colab_type": "text",
    "id": "yR0EdgrLCaWR"
   },
   "source": [
    "## Importamos dataset"
   ]
  },
  {
   "cell_type": "markdown",
   "metadata": {
    "colab_type": "text",
    "id": "DLdCchMdCaWQ"
   },
   "source": [
    "Usaremos un dataset el cuál contiene 1650 imágenes con 10 categorías diferentes. Cada categoría es un dígito del 0 al 9 representado en lenguaje de señas. Cada imagen posee una resolución de 100x100 pixels y cada pixel ocupa 3 valores de color (RGB).\n",
    "\n",
    "La siguiente celda carga las imágenes desde la carpeta 'sign_language_digits'. Para descomprimir un archivo zip en Jupyer se puede ejecutar la siguiente línea en una celda:\n",
    "\n",
    "!unzip sign_language_digits.zip"
   ]
  },
  {
   "cell_type": "code",
   "execution_count": 601,
   "metadata": {},
   "outputs": [],
   "source": [
    "def get_img(data_path):\n",
    "    # Getting image array from path:\n",
    "    img = Image.open(data_path)\n",
    "    img = img.resize((img_size, img_size))\n",
    "    return np.asarray(img)\n",
    "\n",
    "def get_dataset(dataset_path='./sign_language_digits'):\n",
    "    labels = listdir(dataset_path) # Geting labels\n",
    "    X = []\n",
    "    Y = []\n",
    "    for i, label in enumerate(labels):\n",
    "        datas_path = dataset_path+'/'+label\n",
    "        for data in listdir(datas_path):\n",
    "            img = get_img(datas_path+'/'+data)\n",
    "            X.append(img)\n",
    "            Y.append(int(label))\n",
    "    X = np.array(X).astype('float32')/255.\n",
    "    Y = np.array(Y).astype('int')\n",
    "    X, X_test, Y, Y_test = train_test_split(X, Y, test_size=test_size)\n",
    "    return X, X_test, Y, Y_test\n"
   ]
  },
  {
   "cell_type": "markdown",
   "metadata": {},
   "source": [
    "Separamos el dataset de testing con el de entrenamiento"
   ]
  },
  {
   "cell_type": "code",
   "execution_count": 602,
   "metadata": {},
   "outputs": [],
   "source": [
    "X, X_test, Y, Y_test = get_dataset()"
   ]
  },
  {
   "cell_type": "markdown",
   "metadata": {},
   "source": [
    "Mostramos un ejemplo de imagen."
   ]
  },
  {
   "cell_type": "code",
   "execution_count": 603,
   "metadata": {
    "scrolled": true
   },
   "outputs": [
    {
     "name": "stdout",
     "output_type": "stream",
     "text": [
      "Etiqueta de la imagen: 8\n"
     ]
    },
    {
     "data": {
      "image/png": "[encoded data removed]",
      "text/plain": [
       "<Figure size 432x288 with 1 Axes>"
      ]
     },
     "metadata": {
      "needs_background": "light"
     },
     "output_type": "display_data"
    }
   ],
   "source": [
    "nro_imagen = 1\n",
    "\n",
    "image = X[nro_imagen].reshape(1, img_size, img_size, 3)\n",
    "plt.imshow(X[nro_imagen])\n",
    "print(\"Etiqueta de la imagen: \"+str(Y[nro_imagen]))"
   ]
  },
  {
   "cell_type": "code",
   "execution_count": 604,
   "metadata": {},
   "outputs": [
    {
     "name": "stdout",
     "output_type": "stream",
     "text": [
      "(1, 64, 64, 3)\n",
      "(64, 64, 3)\n"
     ]
    }
   ],
   "source": [
    "shape=image.shape\n",
    "print (shape)\n",
    "shape2 = X[nro_imagen].shape\n",
    "print (shape2)"
   ]
  },
  {
   "cell_type": "markdown",
   "metadata": {
    "colab_type": "text",
    "id": "t9FDsUlxCaWW"
   },
   "source": [
    "Tenemos 4 vectores:\n",
    "\n",
    "* `X` e `Y` son arrays del *training set*—los datos que usaremos para entrenar el modelo.\n",
    "* El modelo será testeado con el *test set*, `X_test` e `Y_test` arrays.\n",
    "\n",
    "Las imágenes son matrices de 64x64x3 (si seteamos img_size=64), cada componente de los 3 que tiene cada pixel toma valores reales entre 0 y 1. Los *labels* es un array de enteros en el rango de 0 a 9. Corresponden al dígito que representa la imagen."
   ]
  },
  {
   "cell_type": "markdown",
   "metadata": {
    "colab_type": "text",
    "id": "Brm0b_KACaWX"
   },
   "source": [
    "## Exploración los datos\n",
    "\n",
    "Antes de construir y entrenar un modelo debemos conocer los datos."
   ]
  },
  {
   "cell_type": "code",
   "execution_count": 605,
   "metadata": {
    "colab": {},
    "colab_type": "code",
    "id": "zW5k_xz1CaWX"
   },
   "outputs": [
    {
     "data": {
      "text/plain": [
       "(1330, 64, 64, 3)"
      ]
     },
     "execution_count": 605,
     "metadata": {},
     "output_type": "execute_result"
    }
   ],
   "source": [
    "# Tamaño del dataset de entrenamiento.\n",
    "X.shape"
   ]
  },
  {
   "cell_type": "code",
   "execution_count": 606,
   "metadata": {
    "colab": {},
    "colab_type": "code",
    "id": "TRFYHB2mCaWb"
   },
   "outputs": [
    {
     "data": {
      "text/plain": [
       "1330"
      ]
     },
     "execution_count": 606,
     "metadata": {},
     "output_type": "execute_result"
    }
   ],
   "source": [
    "# Cantidad de labels de entrenamiento.\n",
    "len(Y)"
   ]
  },
  {
   "cell_type": "code",
   "execution_count": 607,
   "metadata": {
    "colab": {},
    "colab_type": "code",
    "id": "XKnCTHz4CaWg"
   },
   "outputs": [
    {
     "data": {
      "text/plain": [
       "array([0, 8, 2, ..., 7, 4, 3])"
      ]
     },
     "execution_count": 607,
     "metadata": {},
     "output_type": "execute_result"
    }
   ],
   "source": [
    "# Cada label es un entero entre 0 y 9.\n",
    "Y"
   ]
  },
  {
   "cell_type": "markdown",
   "metadata": {},
   "source": [
    "Completa las siguientes dos celdas para mostrar el tamaño del dataset de test."
   ]
  },
  {
   "cell_type": "code",
   "execution_count": 608,
   "metadata": {
    "colab": {},
    "colab_type": "code",
    "id": "2KFnYlcwCaWl"
   },
   "outputs": [
    {
     "data": {
      "text/plain": [
       "(333, 64, 64, 3)"
      ]
     },
     "execution_count": 608,
     "metadata": {},
     "output_type": "execute_result"
    }
   ],
   "source": [
    "# Tamaño del dataset de test\n",
    "\n",
    "# TU CODIGO AQUI\n",
    "X_test.shape\n"
   ]
  },
  {
   "cell_type": "code",
   "execution_count": 609,
   "metadata": {
    "colab": {},
    "colab_type": "code",
    "id": "iJmPr5-ACaWn"
   },
   "outputs": [
    {
     "data": {
      "text/plain": [
       "333"
      ]
     },
     "execution_count": 609,
     "metadata": {},
     "output_type": "execute_result"
    }
   ],
   "source": [
    "# Cantidad de labels de test.\n",
    "\n",
    "# TU CODIGO AQUI\n",
    "len(Y_test)\n"
   ]
  },
  {
   "cell_type": "markdown",
   "metadata": {
    "colab_type": "text",
    "id": "59veuiEZCaW4"
   },
   "source": [
    "## Construir el modelo\n",
    "\n",
    "Para nuestra solución construiremos una red neuronal."
   ]
  },
  {
   "cell_type": "markdown",
   "metadata": {},
   "source": []
  },
  {
   "cell_type": "markdown",
   "metadata": {
    "colab_type": "text",
    "id": "NLws8IXaKnw7"
   },
   "source": [
    "**PREGUNTAS**\n",
    "\n",
    "**1) ¿Qué razones hay para utilizar redes neuronales en la resolución de este problema?**\n",
    "\n",
    "Estamos frente a un problema de indentificar imágenes etiquetadas. Por lo tanto, resulta razonable utilizar redes neuronales que es un método de clasificación supervisado y se recomienda para trabajar con imágenes.\n",
    "\n",
    "**2) ¿Qué cantidad de features (input) tendrá la red (considerar la variable img_size)?**\n",
    "\n",
    "En este caso como entrada tenemos una imagen RGB de 64x64 pixels, por lo tanto, la red tendrá una cantidad de inputo featues de: 3*img_size*img_size (3*64*64).\n",
    "\n",
    "**3) ¿Qué representa cada feature?**\n",
    "\n",
    "Cada feature maps es un canal diferente de la imagen.\n",
    "Cada canal se enfoca en aprender un patrón o característica, en este caso contenida en la imagen.\n",
    "\n",
    "\n",
    "**4) La última capa de la red, ¿Cuántas neuronas deberá tener? ¿Por qué?**\n",
    "\n",
    "La última capa deberá tener 10 neuronas, dado que las imágenes a clasificar representan a los dígitos del 0 al 9 (que son 10 diferentes).\n",
    "\n",
    "**5) ¿Utilizarías una red convolucional? ¿Por qué?**\n",
    "\n",
    "Si, al utulizar un red convolucional estamos obligando a la red a aprender a partir de una pequeña ventana (núcleo o kernel) la cual “movemos” sobre toda la imagen, realizando la convolución.\n",
    "De esta manera aprenderá información relativa a los datos de la imagen, los pixels. Y evitamos que aprenda a partir de información relacionada a la dimensión o posición de la característica dentro de la imagen: esquina inferior, centro, arriba, abajo, etc.\n"
   ]
  },
  {
   "cell_type": "markdown",
   "metadata": {
    "colab_type": "text",
    "id": "Gxg1XGm0eOBy"
   },
   "source": [
    "### Construir las capas de la red\n",
    "\n",
    "La unidad básica de construcción de una red neuronal en keras son las capas (layer). \n"
   ]
  },
  {
   "cell_type": "markdown",
   "metadata": {
    "colab_type": "text",
    "id": "ngK32-ELaZPa"
   },
   "source": [
    "\n",
    "### Algunos tipos de capas que podemos usar\n",
    "\n",
    "**Conv2D** (https://keras.io/layers/convolutional/)\n",
    "\n",
    "Capa convolucional. Parámetros:\n",
    "\n",
    "* *filters*: Cantidad de filtros o canales.\n",
    "\n",
    "* *kernel_size*: Tamaño de la ventana que recorrerá la imagen. Ejemplos: (3,3), (5,5), (7,7).\n",
    "* *input_shape*: La dimensión y tamaño de los datos de entrada. Es necesario definirla solamente en la primera capa de la red, en las otras será igual a la salida de la capa anterior. **Ejemplo:** si tenemos como entrada imágenes de 150x100x3 input_shape será (150,100,3).\n",
    "\n",
    "* *padding*: Aumenta el tamaño de entrada con 0's, de esta manera podemos ajustar el tamaño del feature map generado aplicando el kernel. *padding* puede ser 'valid' el cuál no agregará nada o 'same' que agregará tantos ceros tal que el feature map generado sea del mismo tamaño que la entrada.\n",
    "\n",
    "<img src=\"https://s3-us-west-2.amazonaws.com/static.pyimagesearch.com/keras-conv2d/keras_conv2d_padding.gif\" width=\"500\">\n",
    "\n",
    "La red convolucional 2D espera de entrada imágenes donde cada pixel puede tener 1 o más valores (escala de grises, RGB). En nuestro caso será RGB.\n",
    "\n",
    "\n",
    "\n",
    "\n",
    "**MaxPooling2D** (https://keras.io/layers/pooling/)\n",
    "\n",
    "Capa de pooling, comúnmente usada luego de una capa convolucional. Selecciona y reduce la cantidad de valores. Parámetros:\n",
    "\n",
    "* *pool_size*: Reduce el tamaño de entrada de forma: (vertical, horizontal). Ejemplo: (2,2)\n",
    "\n",
    "\n",
    "\n",
    "**Flatten** (https://keras.io/layers/core/)\n",
    "\n",
    "Redimensiona la estructura de la entrada y retorna un vector manteniendo los mismos valores.\n",
    "\n",
    "Por ejemplo, luego de varias capas convolucionales y pooling tendremos varios canales (features maps) donde cada uno será una matriz dos dimensiones, se puede pensar como una estructura en 3 dimensiones. Para conectarla con una capa de neuronas densa (todas conectadas con todas) se debe redimensionar a un vector, se utiliza Flatten para conectar parte convolucional con capas densas.\n",
    "\n",
    "\n",
    "**Dense** (https://keras.io/layers/core/)\n",
    "\n",
    "Capa de neuronas, se conecta todas las entradas con todas las neuronas.\n",
    "\n",
    "* *units*: Cantidad de neuronas de la capa.\n",
    "* *activation*: Función de activación (https://keras.io/activations/), funciones comúnmente utilizadas: 'softmax', 'relu', 'sigmoid'.\n",
    "\n"
   ]
  },
  {
   "cell_type": "markdown",
   "metadata": {},
   "source": [
    "***Bosquejo de una arquitectura con capas convolucionales, pooling y capas densas:***\n",
    "\n",
    "<img src=\"https://missinglink.ai/wp-content/uploads/2019/07/A-Convolutional-Neural-Network.png\" width=\"800\">"
   ]
  },
  {
   "cell_type": "code",
   "execution_count": 610,
   "metadata": {
    "colab": {},
    "colab_type": "code",
    "id": "9ODch-OFCaW4"
   },
   "outputs": [],
   "source": [
    "# Se da un diseño inicial de la red neuronal.\n",
    "# A las capas dadas les falta setear algunas configuraciones (se muestra con ...)\n",
    "\n",
    "# Es posible utilizar una activación para la salida (última capa) y otra activación diferente\n",
    "# para las capas internas, probar con la activación relu para las capas internas.\n",
    "\n",
    "\n",
    "model = Sequential()\n",
    "kernel = (5, 5)\n",
    "#model.add(Conv2D(filters=16, kernel_size=..., padding='same', input_shape=...))\n",
    "model.add(Conv2D(filters=16, kernel_size=kernel, padding='same', input_shape=shape2))\n",
    "#model.add(Activation(...))\n",
    "model.add(Activation(\"relu\"))\n",
    "#model.add(MaxPooling2D(pool_size=...))\n",
    "model.add(MaxPooling2D(pool_size=(2, 2)))\n",
    "\n",
    "\n",
    "# Agregar aquí más capas convolucionales.\n",
    "# Capa2\n",
    "model.add(Conv2D(filters=32, kernel_size=kernel, activation=\"relu\"))\n",
    "model.add(MaxPooling2D(pool_size=(2, 2)))\n",
    "\n",
    "# Capa3\n",
    "model.add(Conv2D(filters=64, kernel_size=kernel, activation=\"relu\"))\n",
    "model.add(MaxPooling2D(pool_size=(2, 2)))\n",
    "\n",
    "    \n",
    "model.add(Flatten())\n",
    "\n",
    "model.add(Dropout(0.3))\n",
    "    \n",
    "# Agregar más capas densas.\n",
    "# Primer capa densa de neuronas\n",
    "model.add(Dense(512, activation=\"relu\"))\n",
    "\n",
    "model.add(Dropout(0.3))\n",
    "\n",
    "# Segunda capa densa de neuronas\n",
    "model.add(Dense(1024, activation=\"relu\"))\n",
    "\n",
    "\n",
    "\n",
    "# Ultima capa o capa de salida\n",
    "#model.add(Dense(units=...))\n",
    "model.add(Dense(units=num_class))\n",
    "model.add(Activation(\"softmax\"))"
   ]
  },
  {
   "cell_type": "markdown",
   "metadata": {
    "colab_type": "text",
    "id": "gut8A_7rCaW6"
   },
   "source": [
    "\n",
    "### Compilar el modelo\n",
    "\n",
    "Antes de comenzar a entrenar el modelo hay que setear algunas configuraciones extras. Se setean durante el paso de *compilación*:\n",
    "\n",
    "* *Loss function* —Mide cuál es el error del modelo durante el entrenamiento. El objetivo es minimizar esta función.\n",
    "* *Optimizer* —Es cómo se actualizará los parámetros del modelo para minimizar la función de pérdida (loss function).\n",
    "* *Metrics* —Para monitorizar la etapa de entrenamiento. Usaremos *accuracy*, la fracción de las imágenes que son correctamente clasificadas."
   ]
  },
  {
   "cell_type": "code",
   "execution_count": 611,
   "metadata": {
    "colab": {},
    "colab_type": "code",
    "id": "Lhan11blCaW7"
   },
   "outputs": [],
   "source": [
    "# Con sparse_categorical_crossentropy no es necesario aplicar one-hot-encoding.\n",
    "# Podemos utilizar los labels directamente como enteros.\n",
    "\n",
    "model.compile(optimizer='adam',\n",
    "              loss='sparse_categorical_crossentropy',\n",
    "              metrics=['accuracy'])"
   ]
  },
  {
   "cell_type": "code",
   "execution_count": 612,
   "metadata": {
    "colab": {},
    "colab_type": "code",
    "id": "rR9JsKTgeb2C"
   },
   "outputs": [
    {
     "name": "stdout",
     "output_type": "stream",
     "text": [
      "Model: \"sequential_84\"\n",
      "_________________________________________________________________\n",
      "Layer (type)                 Output Shape              Param #   \n",
      "=================================================================\n",
      "conv2d_249 (Conv2D)          (None, 64, 64, 16)        1216      \n",
      "_________________________________________________________________\n",
      "activation_161 (Activation)  (None, 64, 64, 16)        0         \n",
      "_________________________________________________________________\n",
      "max_pooling2d_246 (MaxPoolin (None, 32, 32, 16)        0         \n",
      "_________________________________________________________________\n",
      "conv2d_250 (Conv2D)          (None, 28, 28, 32)        12832     \n",
      "_________________________________________________________________\n",
      "max_pooling2d_247 (MaxPoolin (None, 14, 14, 32)        0         \n",
      "_________________________________________________________________\n",
      "conv2d_251 (Conv2D)          (None, 10, 10, 64)        51264     \n",
      "_________________________________________________________________\n",
      "max_pooling2d_248 (MaxPoolin (None, 5, 5, 64)          0         \n",
      "_________________________________________________________________\n",
      "flatten_77 (Flatten)         (None, 1600)              0         \n",
      "_________________________________________________________________\n",
      "dropout_65 (Dropout)         (None, 1600)              0         \n",
      "_________________________________________________________________\n",
      "dense_243 (Dense)            (None, 512)               819712    \n",
      "_________________________________________________________________\n",
      "dropout_66 (Dropout)         (None, 512)               0         \n",
      "_________________________________________________________________\n",
      "dense_244 (Dense)            (None, 1024)              525312    \n",
      "_________________________________________________________________\n",
      "dense_245 (Dense)            (None, 10)                10250     \n",
      "_________________________________________________________________\n",
      "activation_162 (Activation)  (None, 10)                0         \n",
      "=================================================================\n",
      "Total params: 1,420,586\n",
      "Trainable params: 1,420,586\n",
      "Non-trainable params: 0\n",
      "_________________________________________________________________\n",
      "None\n"
     ]
    }
   ],
   "source": [
    "# Mostramos un resumen de la red neuronal.\n",
    "\n",
    "print(model.summary())"
   ]
  },
  {
   "cell_type": "markdown",
   "metadata": {
    "colab_type": "text",
    "id": "qKF6uW-BCaW-"
   },
   "source": [
    "## Entrenamos el modelo\n",
    "\n",
    "Para entrenar el modelo utilizamos la función *fit*, esto hará que el modelo se ajuste a los datos de entrenamiento:"
   ]
  },
  {
   "cell_type": "code",
   "execution_count": 613,
   "metadata": {
    "colab": {},
    "colab_type": "code",
    "id": "xvwvpA64CaW_",
    "scrolled": true
   },
   "outputs": [
    {
     "name": "stdout",
     "output_type": "stream",
     "text": [
      "Epoch 1/15\n",
      "42/42 [==============================] - 14s 345ms/step - loss: 2.3022 - accuracy: 0.1038 - val_loss: 2.2355 - val_accuracy: 0.0961\n",
      "Epoch 2/15\n",
      "42/42 [==============================] - 14s 337ms/step - loss: 1.5878 - accuracy: 0.4346 - val_loss: 0.8331 - val_accuracy: 0.6847\n",
      "Epoch 3/15\n",
      "42/42 [==============================] - 13s 319ms/step - loss: 0.8270 - accuracy: 0.7150 - val_loss: 0.5445 - val_accuracy: 0.8168\n",
      "Epoch 4/15\n",
      "42/42 [==============================] - 13s 319ms/step - loss: 0.5541 - accuracy: 0.8075 - val_loss: 0.3591 - val_accuracy: 0.8679\n",
      "Epoch 5/15\n",
      "42/42 [==============================] - 14s 324ms/step - loss: 0.4275 - accuracy: 0.8647 - val_loss: 0.2951 - val_accuracy: 0.8979\n",
      "Epoch 6/15\n",
      "42/42 [==============================] - 14s 325ms/step - loss: 0.2782 - accuracy: 0.9165 - val_loss: 0.2256 - val_accuracy: 0.9279\n",
      "Epoch 7/15\n",
      "42/42 [==============================] - 14s 331ms/step - loss: 0.1914 - accuracy: 0.9398 - val_loss: 0.1959 - val_accuracy: 0.9339\n",
      "Epoch 8/15\n",
      "42/42 [==============================] - 13s 320ms/step - loss: 0.1793 - accuracy: 0.9414 - val_loss: 0.2404 - val_accuracy: 0.9249\n",
      "Epoch 9/15\n",
      "42/42 [==============================] - 14s 324ms/step - loss: 0.1583 - accuracy: 0.9511 - val_loss: 0.1725 - val_accuracy: 0.9429\n",
      "Epoch 10/15\n",
      "42/42 [==============================] - 14s 328ms/step - loss: 0.1322 - accuracy: 0.9579 - val_loss: 0.1562 - val_accuracy: 0.9459\n",
      "Epoch 11/15\n",
      "42/42 [==============================] - 14s 327ms/step - loss: 0.1144 - accuracy: 0.9654 - val_loss: 0.1853 - val_accuracy: 0.9580\n",
      "Epoch 12/15\n",
      "42/42 [==============================] - 13s 314ms/step - loss: 0.0989 - accuracy: 0.9714 - val_loss: 0.1595 - val_accuracy: 0.9429\n",
      "Epoch 13/15\n",
      "42/42 [==============================] - 14s 323ms/step - loss: 0.1076 - accuracy: 0.9654 - val_loss: 0.1308 - val_accuracy: 0.9670\n",
      "Epoch 14/15\n",
      "42/42 [==============================] - 13s 318ms/step - loss: 0.1056 - accuracy: 0.9624 - val_loss: 0.1046 - val_accuracy: 0.9670\n",
      "Epoch 15/15\n",
      "42/42 [==============================] - 15s 351ms/step - loss: 0.1119 - accuracy: 0.9579 - val_loss: 0.1124 - val_accuracy: 0.9730\n"
     ]
    }
   ],
   "source": [
    "# Podrás modificar epochs y batch_size para obtener un mejor resultado o rendimiento.\n",
    "history = model.fit(X, Y, validation_data=(X_test, Y_test), epochs=15, batch_size=32)"
   ]
  },
  {
   "cell_type": "markdown",
   "metadata": {
    "colab_type": "text",
    "id": "RDDtvAuVQ2fQ"
   },
   "source": [
    "**PREGUNTAS**\n",
    "\n",
    "**6) ¿Qué es el overfitting?**\n",
    "\n",
    "Se denomina sobreajuste (overfitting) al hecho de hacer un modelo tan ajustado a los datos de entrenamiento que no generalice bien a los datos de test.\n",
    "\n",
    "\n",
    "**7) ¿Por qué lo queremos evitar?**\n",
    "\n",
    "Queremos evitarlo porque el objetivo es lograr una solución que generalice y logre buenos resultados frente a nuevos datos no conocidos y no solo frente a los datos de entrenamiento.\n"
   ]
  },
  {
   "cell_type": "markdown",
   "metadata": {
    "colab_type": "text",
    "id": "oEw4bZgGCaXB"
   },
   "source": [
    "## Evaluar el modelo\n",
    "\n",
    "Evaluamos el modelo con el dataset de train y test, luego graficamos la evolución del error y la precisión:"
   ]
  },
  {
   "cell_type": "code",
   "execution_count": 614,
   "metadata": {
    "colab": {},
    "colab_type": "code",
    "id": "VflXLEeECaXC"
   },
   "outputs": [
    {
     "name": "stdout",
     "output_type": "stream",
     "text": [
      "42/42 [==============================] - 3s 71ms/step - loss: 0.0312 - accuracy: 0.9955\n",
      "11/11 [==============================] - 1s 62ms/step - loss: 0.1124 - accuracy: 0.9730\n",
      "\n",
      "Train accuracy: 0.995488703250885\n",
      "\n",
      "Test accuracy: 0.9729729890823364\n"
     ]
    }
   ],
   "source": [
    "train_loss, train_acc = model.evaluate(X, Y)\n",
    "test_loss, test_acc = model.evaluate(X_test, Y_test)\n",
    "\n",
    "print('\\nTrain accuracy:', train_acc)\n",
    "print('\\nTest accuracy:', test_acc)"
   ]
  },
  {
   "cell_type": "markdown",
   "metadata": {
    "colab_type": "text",
    "id": "yWfgsmVXCaXG"
   },
   "source": [
    "**PREGUNTA**\n",
    "\n",
    "**8) ¿Por qué el accuracy de test es menor al de train?**\n",
    "\n",
    "El lógico que así sea dado que los datos de test (validación) son evaluados con los ajustes realizados con los datos de train (entrenamiento).\n"
   ]
  },
  {
   "cell_type": "code",
   "execution_count": 615,
   "metadata": {
    "colab": {},
    "colab_type": "code",
    "id": "uQQiN0LofnBj"
   },
   "outputs": [
    {
     "data": {
      "image/png": "[encoded data removed]",
      "text/plain": [
       "<Figure size 432x288 with 2 Axes>"
      ]
     },
     "metadata": {
      "needs_background": "light"
     },
     "output_type": "display_data"
    }
   ],
   "source": [
    "# Color azul: Entrenamiento.\n",
    "# Color naranja: Testing.\n",
    "\n",
    "from matplotlib import pyplot\n",
    "\n",
    "# plot loss\n",
    "pyplot.subplot(211)\n",
    "pyplot.title('Cross Entropy Loss')\n",
    "pyplot.plot(history.history['loss'], color='blue', label='train')\n",
    "pyplot.plot(history.history['val_loss'], color='orange', label='test')\n",
    "\n",
    "# plot accuracy\n",
    "pyplot.subplot(212)\n",
    "pyplot.title('Classification Accuracy')\n",
    "# Nota: Si 'acc' da error probar con 'accuracy'\n",
    "pyplot.plot(history.history['accuracy'], color='blue', label='train')\n",
    "pyplot.plot(history.history['val_accuracy'], color='orange', label='test')\n",
    "\n",
    "pyplot.show()"
   ]
  },
  {
   "cell_type": "markdown",
   "metadata": {
    "colab_type": "text",
    "id": "yWfgsmVXCaXG"
   },
   "source": [
    "**PREGUNTA**\n",
    "\n",
    "**9) En la gráfica, si la brecha entre ambos accuracy (training y test) es muy grande ¿Qué puede estar sucediendo?**\n",
    "\n",
    "Se podría estar sucediendo un caso de sobreajuste (overfitting), ó un caso de subajuste (underfitting).\n",
    "Si nuestros datos de entrenamiento son muy pocos sistema de aprendizaje automático no será capaz de generalizar el conocimiento y estará incurriendo en underfitting. El algoritmo no dará buenos resultados por falta de buenos ejemplos que le permitan reconocer características genéricas durante el entrenamiento. También es ejemplo de subajuste cuando el sistema reconoce por ejemplo todo animal de 4 patas peludo como un perro.\n",
    "El caso del sobreajuste se produce cuando un sistema de aprendizaje automático se entrena demasiado o con datos anómalos, que hace que el algoritmo aprenda patrones que no son generales. Aprende características específicas pero no los patrones generales."
   ]
  },
  {
   "cell_type": "markdown",
   "metadata": {
    "colab_type": "text",
    "id": "xsoS7CPDCaXH"
   },
   "source": [
    "## Haciendo predicciones\n",
    "\n",
    "Con el modelo entrenado podemos hacer predicciones sobre algunas imágenes."
   ]
  },
  {
   "cell_type": "code",
   "execution_count": 616,
   "metadata": {
    "colab": {},
    "colab_type": "code",
    "id": "Gl91RPhdCaXI"
   },
   "outputs": [],
   "source": [
    "predictions = model.predict(X_test)"
   ]
  },
  {
   "cell_type": "markdown",
   "metadata": {
    "colab_type": "text",
    "id": "x9Kk1voUCaXJ"
   },
   "source": [
    "Podemos ver qué predice nuestro modelo para la primera imagen:"
   ]
  },
  {
   "cell_type": "code",
   "execution_count": 617,
   "metadata": {
    "colab": {},
    "colab_type": "code",
    "id": "3DmJEUinCaXK"
   },
   "outputs": [
    {
     "data": {
      "text/plain": [
       "array([1.8201104e-03, 9.7547513e-01, 2.0927065e-03, 2.0466922e-02,\n",
       "       3.9450097e-08, 9.7499495e-08, 1.0914544e-06, 1.2244951e-04,\n",
       "       8.7641874e-06, 1.2595366e-05], dtype=float32)"
      ]
     },
     "execution_count": 617,
     "metadata": {},
     "output_type": "execute_result"
    }
   ],
   "source": [
    "predictions[0]"
   ]
  },
  {
   "cell_type": "markdown",
   "metadata": {
    "colab_type": "text",
    "id": "-hw1hgeSCaXN"
   },
   "source": [
    "**PREGUNTA**\n",
    "\n",
    "**10) ¿Qué representa el vector *predictions*?**\n",
    "\n",
    "Es el vector con las salidas que predice nuestro modelo para un conjunto dado de imágenes. En nuestro caso para cada imagen tenemos un vector con 10 valores de predicción que corresponden a cada dígito. La posición del valor más cercano a 1 indicará el dígito que predice nuestro modelo para la imagen correspondiente.\n"
   ]
  },
  {
   "cell_type": "markdown",
   "metadata": {
    "colab_type": "text",
    "id": "EZdTrdSt7oUT"
   },
   "source": [
    "Vemos qué clase predice y cuál es la clase correcta para la primera imagen:"
   ]
  },
  {
   "cell_type": "code",
   "execution_count": 618,
   "metadata": {
    "colab": {},
    "colab_type": "code",
    "id": "qsqenuPnCaXO"
   },
   "outputs": [
    {
     "data": {
      "text/plain": [
       "1"
      ]
     },
     "execution_count": 618,
     "metadata": {},
     "output_type": "execute_result"
    }
   ],
   "source": [
    "np.argmax(predictions[0])"
   ]
  },
  {
   "cell_type": "code",
   "execution_count": 619,
   "metadata": {
    "colab": {},
    "colab_type": "code",
    "id": "Sd7Pgsu6CaXP"
   },
   "outputs": [
    {
     "data": {
      "text/plain": [
       "1"
      ]
     },
     "execution_count": 619,
     "metadata": {},
     "output_type": "execute_result"
    }
   ],
   "source": [
    "Y_test[0]"
   ]
  },
  {
   "cell_type": "code",
   "execution_count": 620,
   "metadata": {},
   "outputs": [
    {
     "data": {
      "text/plain": [
       "0"
      ]
     },
     "execution_count": 620,
     "metadata": {},
     "output_type": "execute_result"
    }
   ],
   "source": [
    "np.argmax(predictions[20])"
   ]
  },
  {
   "cell_type": "code",
   "execution_count": 621,
   "metadata": {},
   "outputs": [
    {
     "data": {
      "text/plain": [
       "0"
      ]
     },
     "execution_count": 621,
     "metadata": {},
     "output_type": "execute_result"
    }
   ],
   "source": [
    "Y_test[20]"
   ]
  },
  {
   "cell_type": "code",
   "execution_count": 622,
   "metadata": {},
   "outputs": [
    {
     "data": {
      "text/plain": [
       "7"
      ]
     },
     "execution_count": 622,
     "metadata": {},
     "output_type": "execute_result"
    }
   ],
   "source": [
    "np.argmax(predictions[332])"
   ]
  },
  {
   "cell_type": "code",
   "execution_count": 623,
   "metadata": {},
   "outputs": [
    {
     "data": {
      "text/plain": [
       "7"
      ]
     },
     "execution_count": 623,
     "metadata": {},
     "output_type": "execute_result"
    }
   ],
   "source": [
    "Y_test[332]"
   ]
  },
  {
   "cell_type": "code",
   "execution_count": 624,
   "metadata": {},
   "outputs": [
    {
     "data": {
      "text/plain": [
       "5"
      ]
     },
     "execution_count": 624,
     "metadata": {},
     "output_type": "execute_result"
    }
   ],
   "source": [
    "np.argmax(predictions[166])"
   ]
  },
  {
   "cell_type": "code",
   "execution_count": 625,
   "metadata": {},
   "outputs": [
    {
     "data": {
      "text/plain": [
       "5"
      ]
     },
     "execution_count": 625,
     "metadata": {},
     "output_type": "execute_result"
    }
   ],
   "source": [
    "Y_test[166]"
   ]
  },
  {
   "cell_type": "code",
   "execution_count": null,
   "metadata": {},
   "outputs": [],
   "source": []
  }
 ],
 "metadata": {
  "colab": {
   "collapsed_sections": [],
   "name": "Copia de Prueba Curso Machine Learning.ipynb",
   "private_outputs": true,
   "provenance": [
    {
     "file_id": "1t5JkPpB5vjHBiDUKTtXpvOlXsEyzWKIo",
     "timestamp": 1569610931360
    },
    {
     "file_id": "https://github.com/tensorflow/docs/blob/master/site/en/tutorials/keras/classification.ipynb",
     "timestamp": 1569521089586
    }
   ],
   "toc_visible": true
  },
  "kernelspec": {
   "display_name": "Python 3",
   "language": "python",
   "name": "python3"
  },
  "language_info": {
   "codemirror_mode": {
    "name": "ipython",
    "version": 3
   },
   "file_extension": ".py",
   "mimetype": "text/x-python",
   "name": "python",
   "nbconvert_exporter": "python",
   "pygments_lexer": "ipython3",
   "version": "3.8.5"
  }
 },
 "nbformat": 4,
 "nbformat_minor": 1
}
